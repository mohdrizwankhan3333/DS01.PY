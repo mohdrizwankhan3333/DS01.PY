{
 "cells": [
  {
   "cell_type": "code",
   "execution_count": 8,
   "id": "a7ebf71e-a79d-4571-8ac0-e14b86145a30",
   "metadata": {},
   "outputs": [],
   "source": [
    "a=97\n",
    "b=90\n",
    "a=a+b\n",
    "b=a-b\n",
    "a=a-b"
   ]
  },
  {
   "cell_type": "code",
   "execution_count": 9,
   "id": "8b1bdd19-83d4-48af-8cc1-852dd2b1a41c",
   "metadata": {},
   "outputs": [
    {
     "data": {
      "text/plain": [
       "(90, 97)"
      ]
     },
     "execution_count": 9,
     "metadata": {},
     "output_type": "execute_result"
    }
   ],
   "source": [
    "a,b"
   ]
  },
  {
   "cell_type": "code",
   "execution_count": 7,
   "id": "8a574e80-1b0e-4589-b82d-47c5c3171809",
   "metadata": {},
   "outputs": [
    {
     "name": "stdin",
     "output_type": "stream",
     "text": [
      "enter length and width to find the area of ractangle : 8\n",
      "enter length and width to find the area of ractangle : 9\n"
     ]
    },
    {
     "name": "stdout",
     "output_type": "stream",
     "text": [
      "area of ractangle is =  72.0\n"
     ]
    }
   ],
   "source": [
    "a=float(input(\"enter length to find the area of ractangle :\"))\n",
    "b=float(input(\"enter width to find the area of ractangle :\"))\n",
    "c=a*b\n",
    "print(\"area of ractangle is = \",a*b)"
   ]
  },
  {
   "cell_type": "code",
   "execution_count": null,
   "id": "6ca7baf8-6a19-4b29-a0b2-63fbc357696b",
   "metadata": {},
   "outputs": [],
   "source": [
    "celsius = float(input(\"Enter temperature in Celsius to convert to Fahrenheit: \"))\n",
    "fahrenheit = celsius * 1.8 + 32\n",
    "print(\"Temperature in Fahrenheit is =\", fahrenheit)\n"
   ]
  },
  {
   "cell_type": "code",
   "execution_count": null,
   "id": "c27bd507-e92f-4802-b8de-a56a41db2b19",
   "metadata": {},
   "outputs": [],
   "source": [
    "string=input(\"enter string to calculate it's length :\")\n",
    "c=print(len(string))"
   ]
  },
  {
   "cell_type": "code",
   "execution_count": 21,
   "id": "818d5b98-10c8-41cc-a120-ef7bb944f00e",
   "metadata": {},
   "outputs": [
    {
     "name": "stdin",
     "output_type": "stream",
     "text": [
      "Enter a sentence to calculate the number of vowels:  eiuiuyoiyoiysafoiu khfkiusoifdsu  iuiy\n"
     ]
    },
    {
     "name": "stdout",
     "output_type": "stream",
     "text": [
      "Number of vowels is: 38\n"
     ]
    }
   ],
   "source": [
    "inpt = input(\"Enter a sentence to calculate the number of vowels: \")\n",
    "count = 0\n",
    "for charecter in inpt:\n",
    "    if char in \"aeiouAEIOU\":\n",
    "        count +=1\n",
    "print(\"Number of vowels is:\", count)\n"
   ]
  },
  {
   "cell_type": "code",
   "execution_count": 34,
   "id": "e7dc75a3-10f0-43d2-ac95-872fb436d64c",
   "metadata": {},
   "outputs": [
    {
     "name": "stdin",
     "output_type": "stream",
     "text": [
      "enter string  time is up\n"
     ]
    },
    {
     "name": "stdout",
     "output_type": "stream",
     "text": [
      "reverse string is =  pu si emit\n"
     ]
    }
   ],
   "source": [
    "string=input(\"enter string :\")\n",
    "revstr=string[::-1]\n",
    "print(\"reverse string is = \",revstr)"
   ]
  },
  {
   "cell_type": "code",
   "execution_count": 46,
   "id": "815e9261-d11d-49f1-bae9-bf36297cd791",
   "metadata": {},
   "outputs": [
    {
     "name": "stdin",
     "output_type": "stream",
     "text": [
      "enter string : madam\n"
     ]
    },
    {
     "name": "stdout",
     "output_type": "stream",
     "text": [
      "forward read is =  madam\n",
      "backward read is =  madam\n"
     ]
    }
   ],
   "source": [
    "string=input(\"enter string :\")\n",
    "revstr=string[::-1]\n",
    "if(revstr==string):\n",
    "    print(\"forward read is = \",string)\n",
    "    print(\"backward read is = \",revstr)\n",
    "else:\n",
    "     print(\"the given string is not palindrom\")\n",
    "       \n",
    "   "
   ]
  },
  {
   "cell_type": "code",
   "execution_count": 48,
   "id": "fc935f8c-08e3-42c1-b1be-add264076263",
   "metadata": {},
   "outputs": [
    {
     "name": "stdin",
     "output_type": "stream",
     "text": [
      "enter string to remove all it's the spaces  : mohd rizwan khan\n"
     ]
    },
    {
     "name": "stdout",
     "output_type": "stream",
     "text": [
      "string after remove all the spaces =  mohdrizwankhan\n"
     ]
    }
   ],
   "source": [
    "string=input(\"enter string to remove all it's the spaces  :\")\n",
    "remvspc=string.replace(\" \",\"\")\n",
    "print(\"string after remove all the spaces = \",remvspc)"
   ]
  },
  {
   "cell_type": "code",
   "execution_count": null,
   "id": "8f9e4050-a157-4948-a762-e4178a3d9386",
   "metadata": {},
   "outputs": [],
   "source": []
  }
 ],
 "metadata": {
  "kernelspec": {
   "display_name": "Python 3 (ipykernel)",
   "language": "python",
   "name": "python3"
  },
  "language_info": {
   "codemirror_mode": {
    "name": "ipython",
    "version": 3
   },
   "file_extension": ".py",
   "mimetype": "text/x-python",
   "name": "python",
   "nbconvert_exporter": "python",
   "pygments_lexer": "ipython3",
   "version": "3.10.8"
  }
 },
 "nbformat": 4,
 "nbformat_minor": 5
}
